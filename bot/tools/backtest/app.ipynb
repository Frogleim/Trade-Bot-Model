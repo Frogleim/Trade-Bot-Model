{
 "cells": [
  {
   "cell_type": "code",
   "id": "initial_id",
   "metadata": {
    "collapsed": true,
    "jupyter": {
     "is_executing": true
    }
   },
   "source": [
    "import pandas as pd\n",
    "import numpy as np\n",
    "from binance.client import Client\n",
    "from sklearn.linear_model import LinearRegression\n",
    "from sklearn.metrics import mean_squared_error\n",
    "import matplotlib.pyplot as plt"
   ],
   "outputs": [],
   "execution_count": null
  },
  {
   "metadata": {},
   "cell_type": "code",
   "outputs": [],
   "execution_count": null,
   "source": [
    "client = Client()\n",
    "\n",
    "# Step 2: Fetch Historical Futures Data\n",
    "# Fetch 1-hour klines for BTCUSDT perpetual futures from Jan 1, 2020 to Jan 1, 2021\n",
    "klines = client.futures_historical_klines(\n",
    "    symbol=\"BTCUSDT\",\n",
    "    interval=Client.KLINE_INTERVAL_1HOUR,\n",
    "    start_str=\"1 Jan, 2020\",\n",
    "    end_str=\"1 Jan, 2025\"\n",
    ")"
   ],
   "id": "197a4722d44810a3"
  },
  {
   "metadata": {},
   "cell_type": "code",
   "outputs": [],
   "execution_count": null,
   "source": [
    "df = pd.DataFrame(klines, columns=[\n",
    "    'timestamp', 'open', 'high', 'low', 'close', 'volume',\n",
    "    'close_time', 'quote_asset_volume', 'number_of_trades',\n",
    "    'taker_buy_base_asset_volume', 'taker_buy_quote_asset_volume', 'ignore'\n",
    "])\n",
    "df['timestamp'] = pd.to_datetime(df['timestamp'], unit='ms')\n",
    "df.set_index('timestamp', inplace=True)\n",
    "df = df[['close']].astype(float)  # Use only the closing price for simplicity"
   ],
   "id": "8ceafcf3ccad8e2b"
  },
  {
   "metadata": {},
   "cell_type": "code",
   "outputs": [],
   "execution_count": null,
   "source": [
    "for i in range(1, 25):\n",
    "    df[f'close_t-{i}'] = df['close'].shift(i)  # Lagged closing prices\n",
    "df['target'] = df['close'].shift(-1)  # Next hour's closing price as target\n",
    "\n",
    "# Drop rows with NaN values (due to shifting)\n",
    "df.dropna(inplace=True)"
   ],
   "id": "4439712eb97a7434"
  },
  {
   "metadata": {},
   "cell_type": "code",
   "outputs": [],
   "execution_count": null,
   "source": [
    "train_size = int(len(df) * 0.8)\n",
    "train_df = df.iloc[:train_size]\n",
    "test_df = df.iloc[train_size:]\n",
    "\n",
    "# Separate features (X) and target (y)\n",
    "X_train = train_df.drop('target', axis=1)\n",
    "y_train = train_df['target']\n",
    "X_test = test_df.drop('target', axis=1)\n",
    "y_test = test_df['target']"
   ],
   "id": "83f8163417b13e66"
  },
  {
   "metadata": {},
   "cell_type": "code",
   "outputs": [],
   "execution_count": null,
   "source": [
    "model = LinearRegression()\n",
    "model.fit(X_train, y_train)\n",
    "y_pred = model.predict(X_test)\n",
    "\n",
    "# Step 8: Evaluate the Model\n",
    "# Calculate Mean Squared Error\n",
    "mse = mean_squared_error(y_test, y_pred)\n",
    "print(f'Mean Squared Error: {mse}')\n",
    "\n",
    "# Step 9: Visualize Results\n",
    "# Plot actual vs predicted prices\n",
    "plt.figure(figsize=(12, 6))\n",
    "plt.plot(y_test.index, y_test, label='Actual Price', color='blue')\n",
    "plt.plot(y_test.index, y_pred, label='Predicted Price', color='orange')\n",
    "plt.title('BTCUSDT Futures Price Prediction (1-Hour Interval)')\n",
    "plt.xlabel('Time')\n",
    "plt.ylabel('Price (USDT)')\n",
    "plt.legend()\n",
    "plt.grid(True)\n",
    "plt.show()"
   ],
   "id": "cc95080f5e59f4ad"
  },
  {
   "metadata": {},
   "cell_type": "code",
   "outputs": [],
   "execution_count": null,
   "source": "",
   "id": "f684a844e86c79e6"
  }
 ],
 "metadata": {
  "kernelspec": {
   "display_name": "Python 3",
   "language": "python",
   "name": "python3"
  },
  "language_info": {
   "codemirror_mode": {
    "name": "ipython",
    "version": 2
   },
   "file_extension": ".py",
   "mimetype": "text/x-python",
   "name": "python",
   "nbconvert_exporter": "python",
   "pygments_lexer": "ipython2",
   "version": "2.7.6"
  }
 },
 "nbformat": 4,
 "nbformat_minor": 5
}
